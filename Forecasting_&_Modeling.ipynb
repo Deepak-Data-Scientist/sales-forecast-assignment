{
  "nbformat": 4,
  "nbformat_minor": 0,
  "metadata": {
    "colab": {
      "provenance": []
    },
    "kernelspec": {
      "name": "python3",
      "display_name": "Python 3"
    },
    "language_info": {
      "name": "python"
    }
  },
  "cells": [
    {
      "cell_type": "code",
      "execution_count": 2,
      "metadata": {
        "colab": {
          "base_uri": "https://localhost:8080/",
          "height": 73
        },
        "id": "kEEgqgUJhLp9",
        "outputId": "baa76e9c-5e81-470d-ae3e-a04623e592d4"
      },
      "outputs": [
        {
          "output_type": "display_data",
          "data": {
            "text/plain": [
              "<IPython.core.display.HTML object>"
            ],
            "text/html": [
              "\n",
              "     <input type=\"file\" id=\"files-cf142c7c-18b0-4a75-81fa-d548d17c2389\" name=\"files[]\" multiple disabled\n",
              "        style=\"border:none\" />\n",
              "     <output id=\"result-cf142c7c-18b0-4a75-81fa-d548d17c2389\">\n",
              "      Upload widget is only available when the cell has been executed in the\n",
              "      current browser session. Please rerun this cell to enable.\n",
              "      </output>\n",
              "      <script>// Copyright 2017 Google LLC\n",
              "//\n",
              "// Licensed under the Apache License, Version 2.0 (the \"License\");\n",
              "// you may not use this file except in compliance with the License.\n",
              "// You may obtain a copy of the License at\n",
              "//\n",
              "//      http://www.apache.org/licenses/LICENSE-2.0\n",
              "//\n",
              "// Unless required by applicable law or agreed to in writing, software\n",
              "// distributed under the License is distributed on an \"AS IS\" BASIS,\n",
              "// WITHOUT WARRANTIES OR CONDITIONS OF ANY KIND, either express or implied.\n",
              "// See the License for the specific language governing permissions and\n",
              "// limitations under the License.\n",
              "\n",
              "/**\n",
              " * @fileoverview Helpers for google.colab Python module.\n",
              " */\n",
              "(function(scope) {\n",
              "function span(text, styleAttributes = {}) {\n",
              "  const element = document.createElement('span');\n",
              "  element.textContent = text;\n",
              "  for (const key of Object.keys(styleAttributes)) {\n",
              "    element.style[key] = styleAttributes[key];\n",
              "  }\n",
              "  return element;\n",
              "}\n",
              "\n",
              "// Max number of bytes which will be uploaded at a time.\n",
              "const MAX_PAYLOAD_SIZE = 100 * 1024;\n",
              "\n",
              "function _uploadFiles(inputId, outputId) {\n",
              "  const steps = uploadFilesStep(inputId, outputId);\n",
              "  const outputElement = document.getElementById(outputId);\n",
              "  // Cache steps on the outputElement to make it available for the next call\n",
              "  // to uploadFilesContinue from Python.\n",
              "  outputElement.steps = steps;\n",
              "\n",
              "  return _uploadFilesContinue(outputId);\n",
              "}\n",
              "\n",
              "// This is roughly an async generator (not supported in the browser yet),\n",
              "// where there are multiple asynchronous steps and the Python side is going\n",
              "// to poll for completion of each step.\n",
              "// This uses a Promise to block the python side on completion of each step,\n",
              "// then passes the result of the previous step as the input to the next step.\n",
              "function _uploadFilesContinue(outputId) {\n",
              "  const outputElement = document.getElementById(outputId);\n",
              "  const steps = outputElement.steps;\n",
              "\n",
              "  const next = steps.next(outputElement.lastPromiseValue);\n",
              "  return Promise.resolve(next.value.promise).then((value) => {\n",
              "    // Cache the last promise value to make it available to the next\n",
              "    // step of the generator.\n",
              "    outputElement.lastPromiseValue = value;\n",
              "    return next.value.response;\n",
              "  });\n",
              "}\n",
              "\n",
              "/**\n",
              " * Generator function which is called between each async step of the upload\n",
              " * process.\n",
              " * @param {string} inputId Element ID of the input file picker element.\n",
              " * @param {string} outputId Element ID of the output display.\n",
              " * @return {!Iterable<!Object>} Iterable of next steps.\n",
              " */\n",
              "function* uploadFilesStep(inputId, outputId) {\n",
              "  const inputElement = document.getElementById(inputId);\n",
              "  inputElement.disabled = false;\n",
              "\n",
              "  const outputElement = document.getElementById(outputId);\n",
              "  outputElement.innerHTML = '';\n",
              "\n",
              "  const pickedPromise = new Promise((resolve) => {\n",
              "    inputElement.addEventListener('change', (e) => {\n",
              "      resolve(e.target.files);\n",
              "    });\n",
              "  });\n",
              "\n",
              "  const cancel = document.createElement('button');\n",
              "  inputElement.parentElement.appendChild(cancel);\n",
              "  cancel.textContent = 'Cancel upload';\n",
              "  const cancelPromise = new Promise((resolve) => {\n",
              "    cancel.onclick = () => {\n",
              "      resolve(null);\n",
              "    };\n",
              "  });\n",
              "\n",
              "  // Wait for the user to pick the files.\n",
              "  const files = yield {\n",
              "    promise: Promise.race([pickedPromise, cancelPromise]),\n",
              "    response: {\n",
              "      action: 'starting',\n",
              "    }\n",
              "  };\n",
              "\n",
              "  cancel.remove();\n",
              "\n",
              "  // Disable the input element since further picks are not allowed.\n",
              "  inputElement.disabled = true;\n",
              "\n",
              "  if (!files) {\n",
              "    return {\n",
              "      response: {\n",
              "        action: 'complete',\n",
              "      }\n",
              "    };\n",
              "  }\n",
              "\n",
              "  for (const file of files) {\n",
              "    const li = document.createElement('li');\n",
              "    li.append(span(file.name, {fontWeight: 'bold'}));\n",
              "    li.append(span(\n",
              "        `(${file.type || 'n/a'}) - ${file.size} bytes, ` +\n",
              "        `last modified: ${\n",
              "            file.lastModifiedDate ? file.lastModifiedDate.toLocaleDateString() :\n",
              "                                    'n/a'} - `));\n",
              "    const percent = span('0% done');\n",
              "    li.appendChild(percent);\n",
              "\n",
              "    outputElement.appendChild(li);\n",
              "\n",
              "    const fileDataPromise = new Promise((resolve) => {\n",
              "      const reader = new FileReader();\n",
              "      reader.onload = (e) => {\n",
              "        resolve(e.target.result);\n",
              "      };\n",
              "      reader.readAsArrayBuffer(file);\n",
              "    });\n",
              "    // Wait for the data to be ready.\n",
              "    let fileData = yield {\n",
              "      promise: fileDataPromise,\n",
              "      response: {\n",
              "        action: 'continue',\n",
              "      }\n",
              "    };\n",
              "\n",
              "    // Use a chunked sending to avoid message size limits. See b/62115660.\n",
              "    let position = 0;\n",
              "    do {\n",
              "      const length = Math.min(fileData.byteLength - position, MAX_PAYLOAD_SIZE);\n",
              "      const chunk = new Uint8Array(fileData, position, length);\n",
              "      position += length;\n",
              "\n",
              "      const base64 = btoa(String.fromCharCode.apply(null, chunk));\n",
              "      yield {\n",
              "        response: {\n",
              "          action: 'append',\n",
              "          file: file.name,\n",
              "          data: base64,\n",
              "        },\n",
              "      };\n",
              "\n",
              "      let percentDone = fileData.byteLength === 0 ?\n",
              "          100 :\n",
              "          Math.round((position / fileData.byteLength) * 100);\n",
              "      percent.textContent = `${percentDone}% done`;\n",
              "\n",
              "    } while (position < fileData.byteLength);\n",
              "  }\n",
              "\n",
              "  // All done.\n",
              "  yield {\n",
              "    response: {\n",
              "      action: 'complete',\n",
              "    }\n",
              "  };\n",
              "}\n",
              "\n",
              "scope.google = scope.google || {};\n",
              "scope.google.colab = scope.google.colab || {};\n",
              "scope.google.colab._files = {\n",
              "  _uploadFiles,\n",
              "  _uploadFilesContinue,\n",
              "};\n",
              "})(self);\n",
              "</script> "
            ]
          },
          "metadata": {}
        },
        {
          "output_type": "stream",
          "name": "stdout",
          "text": [
            "Saving cleaned_sales_data.csv to cleaned_sales_data.csv\n"
          ]
        }
      ],
      "source": [
        "# Load Cleaned Data\n",
        "from google.colab import files\n",
        "uploaded = files.upload()\n"
      ]
    },
    {
      "cell_type": "code",
      "source": [
        "import pandas as pd\n",
        "\n",
        "# Cleaned file load karo\n",
        "df = pd.read_csv(\"cleaned_sales_data.csv\")\n",
        "\n",
        "# Date column ko phir se datetime me convert karo with dayfirst\n",
        "df[\"weekend_date\"] = pd.to_datetime(df[\"weekend_date\"], format=\"mixed\", dayfirst=True)\n",
        "\n",
        "\n",
        "\n",
        "\n",
        "# Confirm check\n",
        "print(df.dtypes)\n",
        "\n",
        "\n"
      ],
      "metadata": {
        "colab": {
          "base_uri": "https://localhost:8080/"
        },
        "id": "cDxSU0nchmvU",
        "outputId": "a168a406-9116-4edc-eb1c-6089485f81ef"
      },
      "execution_count": 16,
      "outputs": [
        {
          "output_type": "stream",
          "name": "stdout",
          "text": [
            "weekend_date    datetime64[ns]\n",
            "channel                 object\n",
            "brand                   object\n",
            "category                object\n",
            "sub_category            object\n",
            "SerialNum                int64\n",
            "quantity                 int64\n",
            "dtype: object\n"
          ]
        }
      ]
    },
    {
      "cell_type": "markdown",
      "source": [
        "**Train/Validation Split**"
      ],
      "metadata": {
        "id": "zdJJtZuxhySK"
      }
    },
    {
      "cell_type": "code",
      "source": [
        "!pip install prophet\n"
      ],
      "metadata": {
        "colab": {
          "base_uri": "https://localhost:8080/"
        },
        "id": "h-toYDLOh0kQ",
        "outputId": "87610d65-154b-4de9-da5d-bb3b979e08b0"
      },
      "execution_count": 4,
      "outputs": [
        {
          "output_type": "stream",
          "name": "stdout",
          "text": [
            "Requirement already satisfied: prophet in /usr/local/lib/python3.11/dist-packages (1.1.7)\n",
            "Requirement already satisfied: cmdstanpy>=1.0.4 in /usr/local/lib/python3.11/dist-packages (from prophet) (1.2.5)\n",
            "Requirement already satisfied: numpy>=1.15.4 in /usr/local/lib/python3.11/dist-packages (from prophet) (2.0.2)\n",
            "Requirement already satisfied: matplotlib>=2.0.0 in /usr/local/lib/python3.11/dist-packages (from prophet) (3.10.0)\n",
            "Requirement already satisfied: pandas>=1.0.4 in /usr/local/lib/python3.11/dist-packages (from prophet) (2.2.2)\n",
            "Requirement already satisfied: holidays<1,>=0.25 in /usr/local/lib/python3.11/dist-packages (from prophet) (0.75)\n",
            "Requirement already satisfied: tqdm>=4.36.1 in /usr/local/lib/python3.11/dist-packages (from prophet) (4.67.1)\n",
            "Requirement already satisfied: importlib_resources in /usr/local/lib/python3.11/dist-packages (from prophet) (6.5.2)\n",
            "Requirement already satisfied: stanio<2.0.0,>=0.4.0 in /usr/local/lib/python3.11/dist-packages (from cmdstanpy>=1.0.4->prophet) (0.5.1)\n",
            "Requirement already satisfied: python-dateutil in /usr/local/lib/python3.11/dist-packages (from holidays<1,>=0.25->prophet) (2.9.0.post0)\n",
            "Requirement already satisfied: contourpy>=1.0.1 in /usr/local/lib/python3.11/dist-packages (from matplotlib>=2.0.0->prophet) (1.3.2)\n",
            "Requirement already satisfied: cycler>=0.10 in /usr/local/lib/python3.11/dist-packages (from matplotlib>=2.0.0->prophet) (0.12.1)\n",
            "Requirement already satisfied: fonttools>=4.22.0 in /usr/local/lib/python3.11/dist-packages (from matplotlib>=2.0.0->prophet) (4.58.4)\n",
            "Requirement already satisfied: kiwisolver>=1.3.1 in /usr/local/lib/python3.11/dist-packages (from matplotlib>=2.0.0->prophet) (1.4.8)\n",
            "Requirement already satisfied: packaging>=20.0 in /usr/local/lib/python3.11/dist-packages (from matplotlib>=2.0.0->prophet) (24.2)\n",
            "Requirement already satisfied: pillow>=8 in /usr/local/lib/python3.11/dist-packages (from matplotlib>=2.0.0->prophet) (11.2.1)\n",
            "Requirement already satisfied: pyparsing>=2.3.1 in /usr/local/lib/python3.11/dist-packages (from matplotlib>=2.0.0->prophet) (3.2.3)\n",
            "Requirement already satisfied: pytz>=2020.1 in /usr/local/lib/python3.11/dist-packages (from pandas>=1.0.4->prophet) (2025.2)\n",
            "Requirement already satisfied: tzdata>=2022.7 in /usr/local/lib/python3.11/dist-packages (from pandas>=1.0.4->prophet) (2025.2)\n",
            "Requirement already satisfied: six>=1.5 in /usr/local/lib/python3.11/dist-packages (from python-dateutil->holidays<1,>=0.25->prophet) (1.17.0)\n"
          ]
        }
      ]
    },
    {
      "cell_type": "code",
      "source": [
        "from prophet import Prophet\n",
        "import joblib\n"
      ],
      "metadata": {
        "id": "7j1LvXjeh9qB"
      },
      "execution_count": 17,
      "outputs": []
    },
    {
      "cell_type": "markdown",
      "source": [
        "**Model Training Loop**"
      ],
      "metadata": {
        "id": "aVR2ppVviEks"
      }
    },
    {
      "cell_type": "code",
      "source": [
        "from prophet import Prophet\n",
        "import joblib\n",
        "\n",
        "serial_nums = df[\"SerialNum\"].unique()\n",
        "\n",
        "train_end = \"2024-05-31\"\n",
        "valid_end = \"2024-08-31\"\n",
        "\n",
        "for serial in serial_nums:\n",
        "    # Filter for this SerialNum\n",
        "    df_serial = df[df[\"SerialNum\"] == serial][[\"weekend_date\", \"quantity\"]].copy()\n",
        "\n",
        "    # Rename columns for Prophet\n",
        "    df_serial.rename(columns={\"weekend_date\": \"ds\", \"quantity\": \"y\"}, inplace=True)\n",
        "\n",
        "    # Always sort\n",
        "    df_serial.sort_values(\"ds\", inplace=True)\n",
        "\n",
        "    # Split train/validation\n",
        "    train = df_serial[df_serial[\"ds\"] <= train_end]\n",
        "    valid = df_serial[(df_serial[\"ds\"] > train_end) & (df_serial[\"ds\"] <= valid_end)]\n",
        "\n",
        "    # Check types\n",
        "    print(train.dtypes)\n",
        "\n",
        "    # Prophet model\n",
        "    m = Prophet(weekly_seasonality=True, yearly_seasonality=True)\n",
        "    m.fit(train)\n",
        "\n",
        "    # Save model\n",
        "    joblib.dump(m, f\"prophet_model_serial_{serial}.pkl\")\n"
      ],
      "metadata": {
        "colab": {
          "base_uri": "https://localhost:8080/"
        },
        "id": "f2xD8jeSiHvW",
        "outputId": "73eac730-c49c-4381-8ecb-01287cd64a5e"
      },
      "execution_count": 18,
      "outputs": [
        {
          "output_type": "stream",
          "name": "stderr",
          "text": [
            "INFO:prophet:Disabling daily seasonality. Run prophet with daily_seasonality=True to override this.\n",
            "DEBUG:cmdstanpy:input tempfile: /tmp/tmpkzsvissd/g864w1_q.json\n",
            "DEBUG:cmdstanpy:input tempfile: /tmp/tmpkzsvissd/73_w6to9.json\n",
            "DEBUG:cmdstanpy:idx 0\n",
            "DEBUG:cmdstanpy:running CmdStan, num_threads: None\n",
            "DEBUG:cmdstanpy:CmdStan args: ['/usr/local/lib/python3.11/dist-packages/prophet/stan_model/prophet_model.bin', 'random', 'seed=86018', 'data', 'file=/tmp/tmpkzsvissd/g864w1_q.json', 'init=/tmp/tmpkzsvissd/73_w6to9.json', 'output', 'file=/tmp/tmpkzsvissd/prophet_modelnnc6143q/prophet_model-20250704040304.csv', 'method=optimize', 'algorithm=lbfgs', 'iter=10000']\n",
            "04:03:04 - cmdstanpy - INFO - Chain [1] start processing\n",
            "INFO:cmdstanpy:Chain [1] start processing\n",
            "04:03:04 - cmdstanpy - INFO - Chain [1] done processing\n",
            "INFO:cmdstanpy:Chain [1] done processing\n",
            "INFO:prophet:Disabling daily seasonality. Run prophet with daily_seasonality=True to override this.\n",
            "DEBUG:cmdstanpy:input tempfile: /tmp/tmpkzsvissd/ajitm1nj.json\n",
            "DEBUG:cmdstanpy:input tempfile: /tmp/tmpkzsvissd/l9qd7p87.json\n",
            "DEBUG:cmdstanpy:idx 0\n",
            "DEBUG:cmdstanpy:running CmdStan, num_threads: None\n",
            "DEBUG:cmdstanpy:CmdStan args: ['/usr/local/lib/python3.11/dist-packages/prophet/stan_model/prophet_model.bin', 'random', 'seed=5265', 'data', 'file=/tmp/tmpkzsvissd/ajitm1nj.json', 'init=/tmp/tmpkzsvissd/l9qd7p87.json', 'output', 'file=/tmp/tmpkzsvissd/prophet_modelwofzszco/prophet_model-20250704040304.csv', 'method=optimize', 'algorithm=newton', 'iter=10000']\n",
            "04:03:04 - cmdstanpy - INFO - Chain [1] start processing\n",
            "INFO:cmdstanpy:Chain [1] start processing\n"
          ]
        },
        {
          "output_type": "stream",
          "name": "stdout",
          "text": [
            "ds    datetime64[ns]\n",
            "y              int64\n",
            "dtype: object\n",
            "ds    datetime64[ns]\n",
            "y              int64\n",
            "dtype: object\n"
          ]
        },
        {
          "output_type": "stream",
          "name": "stderr",
          "text": [
            "04:03:05 - cmdstanpy - INFO - Chain [1] done processing\n",
            "INFO:cmdstanpy:Chain [1] done processing\n",
            "INFO:prophet:Disabling daily seasonality. Run prophet with daily_seasonality=True to override this.\n",
            "DEBUG:cmdstanpy:input tempfile: /tmp/tmpkzsvissd/nxd7asmq.json\n",
            "DEBUG:cmdstanpy:input tempfile: /tmp/tmpkzsvissd/l8nm6mou.json\n",
            "DEBUG:cmdstanpy:idx 0\n",
            "DEBUG:cmdstanpy:running CmdStan, num_threads: None\n",
            "DEBUG:cmdstanpy:CmdStan args: ['/usr/local/lib/python3.11/dist-packages/prophet/stan_model/prophet_model.bin', 'random', 'seed=43666', 'data', 'file=/tmp/tmpkzsvissd/nxd7asmq.json', 'init=/tmp/tmpkzsvissd/l8nm6mou.json', 'output', 'file=/tmp/tmpkzsvissd/prophet_model6s90j3qu/prophet_model-20250704040305.csv', 'method=optimize', 'algorithm=lbfgs', 'iter=10000']\n",
            "04:03:05 - cmdstanpy - INFO - Chain [1] start processing\n",
            "INFO:cmdstanpy:Chain [1] start processing\n",
            "04:03:05 - cmdstanpy - INFO - Chain [1] done processing\n",
            "INFO:cmdstanpy:Chain [1] done processing\n",
            "INFO:prophet:Disabling daily seasonality. Run prophet with daily_seasonality=True to override this.\n",
            "DEBUG:cmdstanpy:input tempfile: /tmp/tmpkzsvissd/i6bv551o.json\n",
            "DEBUG:cmdstanpy:input tempfile: /tmp/tmpkzsvissd/v0_6bodt.json\n",
            "DEBUG:cmdstanpy:idx 0\n",
            "DEBUG:cmdstanpy:running CmdStan, num_threads: None\n",
            "DEBUG:cmdstanpy:CmdStan args: ['/usr/local/lib/python3.11/dist-packages/prophet/stan_model/prophet_model.bin', 'random', 'seed=90174', 'data', 'file=/tmp/tmpkzsvissd/i6bv551o.json', 'init=/tmp/tmpkzsvissd/v0_6bodt.json', 'output', 'file=/tmp/tmpkzsvissd/prophet_modelkedbhgh8/prophet_model-20250704040305.csv', 'method=optimize', 'algorithm=newton', 'iter=10000']\n",
            "04:03:05 - cmdstanpy - INFO - Chain [1] start processing\n",
            "INFO:cmdstanpy:Chain [1] start processing\n"
          ]
        },
        {
          "output_type": "stream",
          "name": "stdout",
          "text": [
            "ds    datetime64[ns]\n",
            "y              int64\n",
            "dtype: object\n",
            "ds    datetime64[ns]\n",
            "y              int64\n",
            "dtype: object\n"
          ]
        },
        {
          "output_type": "stream",
          "name": "stderr",
          "text": [
            "04:03:05 - cmdstanpy - INFO - Chain [1] done processing\n",
            "INFO:cmdstanpy:Chain [1] done processing\n",
            "INFO:prophet:Disabling daily seasonality. Run prophet with daily_seasonality=True to override this.\n",
            "DEBUG:cmdstanpy:input tempfile: /tmp/tmpkzsvissd/o2q8wai8.json\n",
            "DEBUG:cmdstanpy:input tempfile: /tmp/tmpkzsvissd/9pgbu50d.json\n",
            "DEBUG:cmdstanpy:idx 0\n",
            "DEBUG:cmdstanpy:running CmdStan, num_threads: None\n",
            "DEBUG:cmdstanpy:CmdStan args: ['/usr/local/lib/python3.11/dist-packages/prophet/stan_model/prophet_model.bin', 'random', 'seed=55823', 'data', 'file=/tmp/tmpkzsvissd/o2q8wai8.json', 'init=/tmp/tmpkzsvissd/9pgbu50d.json', 'output', 'file=/tmp/tmpkzsvissd/prophet_model0oos_h2b/prophet_model-20250704040305.csv', 'method=optimize', 'algorithm=lbfgs', 'iter=10000']\n",
            "04:03:05 - cmdstanpy - INFO - Chain [1] start processing\n",
            "INFO:cmdstanpy:Chain [1] start processing\n",
            "04:03:05 - cmdstanpy - INFO - Chain [1] done processing\n",
            "INFO:cmdstanpy:Chain [1] done processing\n"
          ]
        },
        {
          "output_type": "stream",
          "name": "stdout",
          "text": [
            "ds    datetime64[ns]\n",
            "y              int64\n",
            "dtype: object\n"
          ]
        }
      ]
    },
    {
      "cell_type": "markdown",
      "source": [
        "** Validation Forecast and Accuracy**"
      ],
      "metadata": {
        "id": "coVXhG42nTuj"
      }
    },
    {
      "cell_type": "code",
      "source": [
        "# Create dataframe of future dates for validation\n",
        "future_valid = valid[[\"ds\"]].copy()\n",
        "\n",
        "# Make forecast on validation period\n",
        "forecast_valid = m.predict(future_valid)\n",
        "\n",
        "# Merge actuals with forecast\n",
        "results_valid = valid.merge(forecast_valid[[\"ds\", \"yhat\"]], on=\"ds\")\n",
        "\n",
        "print(results_valid.head())\n",
        "\n",
        "# Compute absolute error\n",
        "results_valid[\"abs_error\"] = abs(results_valid[\"yhat\"] - results_valid[\"y\"])\n",
        "\n",
        "# Monthly accuracy\n",
        "monthly_accuracy = (\n",
        "    results_valid\n",
        "    .groupby(results_valid[\"ds\"].dt.to_period(\"M\"))\n",
        "    .apply(lambda x: 1 - (x[\"abs_error\"].sum() / x[\"y\"].sum()))\n",
        ")\n",
        "\n",
        "print(f\"Monthly Accuracy (Validation) for SerialNum {serial}:\")\n",
        "print(monthly_accuracy)\n"
      ],
      "metadata": {
        "colab": {
          "base_uri": "https://localhost:8080/"
        },
        "id": "QEx8SodcnaP-",
        "outputId": "3932f3b0-f8d3-481d-e1e5-9ab88ad2a9b9"
      },
      "execution_count": 19,
      "outputs": [
        {
          "output_type": "stream",
          "name": "stdout",
          "text": [
            "          ds     y         yhat\n",
            "0 2024-06-01  1246  1650.338420\n",
            "1 2024-06-01  1246  1650.338420\n",
            "2 2024-06-01   790  1650.338420\n",
            "3 2024-06-01   790  1650.338420\n",
            "4 2024-06-08   939  1353.532078\n",
            "Monthly Accuracy (Validation) for SerialNum 4:\n",
            "ds\n",
            "2024-06    0.314457\n",
            "2024-07    0.293139\n",
            "2024-08    0.483989\n",
            "Freq: M, dtype: float64\n"
          ]
        }
      ]
    },
    {
      "cell_type": "markdown",
      "source": [
        "** Future Forecast (Sept–Nov)**"
      ],
      "metadata": {
        "id": "8BHBPHKnnhNj"
      }
    },
    {
      "cell_type": "code",
      "source": [
        "# Generate future dataframe for next 12 weeks\n",
        "future = m.make_future_dataframe(periods=12, freq=\"W\")\n",
        "\n",
        "# Make forecast\n",
        "forecast = m.predict(future)\n",
        "\n",
        "# Only future predictions\n",
        "forecast_table = forecast[[\"ds\", \"yhat\"]].tail(12)\n",
        "\n",
        "print(f\"Forecast for Sept–Nov for SerialNum {serial}:\")\n",
        "print(forecast_table)\n"
      ],
      "metadata": {
        "colab": {
          "base_uri": "https://localhost:8080/"
        },
        "id": "6sIjyoFSndtE",
        "outputId": "683f41e5-c3bd-4a1e-d32d-9e90fbe4feb8"
      },
      "execution_count": 20,
      "outputs": [
        {
          "output_type": "stream",
          "name": "stdout",
          "text": [
            "Forecast for Sept–Nov for SerialNum 4:\n",
            "           ds         yhat\n",
            "71 2024-05-26  1075.437523\n",
            "72 2024-06-02  1353.634376\n",
            "73 2024-06-09   980.595678\n",
            "74 2024-06-16   512.302982\n",
            "75 2024-06-23   693.830009\n",
            "76 2024-06-30  1537.040820\n",
            "77 2024-07-07  2263.870128\n",
            "78 2024-07-14  2167.527976\n",
            "79 2024-07-21  1374.185003\n",
            "80 2024-07-28   648.667382\n",
            "81 2024-08-04   535.433922\n",
            "82 2024-08-11   861.092853\n"
          ]
        }
      ]
    },
    {
      "cell_type": "code",
      "source": [
        "results_valid.to_csv(f\"validation_forecast_serial_{serial}.csv\", index=False)\n"
      ],
      "metadata": {
        "id": "BRcGZT9Vnn5a"
      },
      "execution_count": 21,
      "outputs": []
    },
    {
      "cell_type": "code",
      "source": [
        "forecast_table.to_csv(f\"future_forecast_serial_{serial}.csv\", index=False)\n"
      ],
      "metadata": {
        "id": "nQ0xWxoVoLyD"
      },
      "execution_count": 22,
      "outputs": []
    },
    {
      "cell_type": "code",
      "source": [
        "joblib.dump(m, f\"prophet_model_serial_{serial}.pkl\")\n"
      ],
      "metadata": {
        "colab": {
          "base_uri": "https://localhost:8080/"
        },
        "id": "Hro-mQt2oQ1o",
        "outputId": "6afcb10b-5083-4c02-d8ef-c78427156a89"
      },
      "execution_count": 23,
      "outputs": [
        {
          "output_type": "execute_result",
          "data": {
            "text/plain": [
              "['prophet_model_serial_4.pkl']"
            ]
          },
          "metadata": {},
          "execution_count": 23
        }
      ]
    },
    {
      "cell_type": "code",
      "source": [
        "from prophet import Prophet\n",
        "import pandas as pd\n",
        "import joblib\n",
        "\n",
        "# (Yeh maan ke chal raha hoon df aapka cleaned aur weekend_date datetime me hai)\n",
        "\n",
        "# Sirf ek SerialNum ke liye example\n",
        "serial = 4\n",
        "\n",
        "# Filter data\n",
        "df_serial = df[df[\"SerialNum\"] == serial]\n",
        "\n",
        "# Prophet input\n",
        "prophet_df = df_serial[[\"weekend_date\", \"quantity\"]].rename(columns={\"weekend_date\": \"ds\", \"quantity\": \"y\"})\n",
        "\n",
        "# Train Model\n",
        "m = Prophet(weekly_seasonality=True, yearly_seasonality=True)\n",
        "m.fit(prophet_df)\n",
        "\n",
        "# Create future dataframe: 13 weeks (Sept–Nov)\n",
        "future = m.make_future_dataframe(periods=13, freq=\"W\")\n",
        "\n",
        "# Forecast\n",
        "forecast = m.predict(future)\n",
        "\n",
        "# Sirf Sept–Nov forecast rows nikalna\n",
        "forecast_future = forecast.tail(13)\n",
        "\n",
        "# Save as CSV\n",
        "forecast_future[[\"ds\", \"yhat\", \"yhat_lower\", \"yhat_upper\"]].to_csv(f\"future_forecast_serial_{serial}.csv\", index=False)\n",
        "\n",
        "# Download\n",
        "from google.colab import files\n",
        "files.download(f\"future_forecast_serial_{serial}.csv\")\n"
      ],
      "metadata": {
        "colab": {
          "base_uri": "https://localhost:8080/",
          "height": 211
        },
        "id": "EuyeN85co_W9",
        "outputId": "9bf1c1e9-8982-487e-c70c-ee2653d43bc1"
      },
      "execution_count": 26,
      "outputs": [
        {
          "output_type": "stream",
          "name": "stderr",
          "text": [
            "INFO:prophet:Disabling daily seasonality. Run prophet with daily_seasonality=True to override this.\n",
            "DEBUG:cmdstanpy:input tempfile: /tmp/tmpkzsvissd/pojh3pju.json\n",
            "DEBUG:cmdstanpy:input tempfile: /tmp/tmpkzsvissd/mkucgzws.json\n",
            "DEBUG:cmdstanpy:idx 0\n",
            "DEBUG:cmdstanpy:running CmdStan, num_threads: None\n",
            "DEBUG:cmdstanpy:CmdStan args: ['/usr/local/lib/python3.11/dist-packages/prophet/stan_model/prophet_model.bin', 'random', 'seed=79482', 'data', 'file=/tmp/tmpkzsvissd/pojh3pju.json', 'init=/tmp/tmpkzsvissd/mkucgzws.json', 'output', 'file=/tmp/tmpkzsvissd/prophet_model6rg294mr/prophet_model-20250704042734.csv', 'method=optimize', 'algorithm=lbfgs', 'iter=10000']\n",
            "04:27:34 - cmdstanpy - INFO - Chain [1] start processing\n",
            "INFO:cmdstanpy:Chain [1] start processing\n",
            "04:27:34 - cmdstanpy - INFO - Chain [1] done processing\n",
            "INFO:cmdstanpy:Chain [1] done processing\n"
          ]
        },
        {
          "output_type": "display_data",
          "data": {
            "text/plain": [
              "<IPython.core.display.Javascript object>"
            ],
            "application/javascript": [
              "\n",
              "    async function download(id, filename, size) {\n",
              "      if (!google.colab.kernel.accessAllowed) {\n",
              "        return;\n",
              "      }\n",
              "      const div = document.createElement('div');\n",
              "      const label = document.createElement('label');\n",
              "      label.textContent = `Downloading \"${filename}\": `;\n",
              "      div.appendChild(label);\n",
              "      const progress = document.createElement('progress');\n",
              "      progress.max = size;\n",
              "      div.appendChild(progress);\n",
              "      document.body.appendChild(div);\n",
              "\n",
              "      const buffers = [];\n",
              "      let downloaded = 0;\n",
              "\n",
              "      const channel = await google.colab.kernel.comms.open(id);\n",
              "      // Send a message to notify the kernel that we're ready.\n",
              "      channel.send({})\n",
              "\n",
              "      for await (const message of channel.messages) {\n",
              "        // Send a message to notify the kernel that we're ready.\n",
              "        channel.send({})\n",
              "        if (message.buffers) {\n",
              "          for (const buffer of message.buffers) {\n",
              "            buffers.push(buffer);\n",
              "            downloaded += buffer.byteLength;\n",
              "            progress.value = downloaded;\n",
              "          }\n",
              "        }\n",
              "      }\n",
              "      const blob = new Blob(buffers, {type: 'application/binary'});\n",
              "      const a = document.createElement('a');\n",
              "      a.href = window.URL.createObjectURL(blob);\n",
              "      a.download = filename;\n",
              "      div.appendChild(a);\n",
              "      a.click();\n",
              "      div.remove();\n",
              "    }\n",
              "  "
            ]
          },
          "metadata": {}
        },
        {
          "output_type": "display_data",
          "data": {
            "text/plain": [
              "<IPython.core.display.Javascript object>"
            ],
            "application/javascript": [
              "download(\"download_b360f99c-236b-4595-b6d2-100c65f2b62b\", \"future_forecast_serial_4.csv\", 900)"
            ]
          },
          "metadata": {}
        }
      ]
    },
    {
      "cell_type": "code",
      "source": [
        "# 1️⃣ Pehle confirm kar lo kaun kaun si files hain\n",
        "import os\n",
        "\n",
        "# List all files in current directory\n",
        "print(\"Current directory files:\")\n",
        "print(os.listdir())\n",
        "\n",
        "# 2️⃣ Agar sab files yahin hain to zip bana do\n",
        "import zipfile\n",
        "\n",
        "# Zip file ka naam\n",
        "zip_filename = \"forecast_models_and_outputs.zip\"\n",
        "\n",
        "# Kaun kaun si files dalni hain (yahan sab file names likh do)\n",
        "files_to_zip = [\n",
        "    \"future_forecast_serial_1.csv\",\n",
        "    \"future_forecast_serial_2.csv\",\n",
        "    \"future_forecast_serial_3.csv\",\n",
        "    \"future_forecast_serial_4.csv\",\n",
        "    \"future_forecast_serial_4(1).csv\",\n",
        "    \"future_forecast_serial_5.csv\",\n",
        "    \"validation_forecast_serial_1.csv\",\n",
        "    \"validation_forecast_serial_2.csv\",\n",
        "    \"validation_forecast_serial_3.csv\",\n",
        "    \"validation_forecast_serial_4.csv\",\n",
        "    \"validation_forecast_serial_5.csv\",\n",
        "    \"prophet_model_serial_1.pkl\",\n",
        "    \"prophet_model_serial_2.pkl\",\n",
        "    \"prophet_model_serial_3.pkl\",\n",
        "    \"prophet_model_serial_4.pkl\",\n",
        "    \"prophet_model_serial_5.pkl\"\n",
        "]\n",
        "\n",
        "# Zip file create karna\n",
        "with zipfile.ZipFile(zip_filename, 'w') as zipf:\n",
        "    for file in files_to_zip:\n",
        "        if os.path.exists(file):\n",
        "            zipf.write(file)\n",
        "        else:\n",
        "            print(f\"⚠️ File not found, skipping: {file}\")\n",
        "\n",
        "print(f\"✅ ZIP file created: {zip_filename}\")\n"
      ],
      "metadata": {
        "colab": {
          "base_uri": "https://localhost:8080/"
        },
        "id": "f0votfqOuS7_",
        "outputId": "ac444740-d063-4385-ff32-d06a067a0a41"
      },
      "execution_count": 27,
      "outputs": [
        {
          "output_type": "stream",
          "name": "stdout",
          "text": [
            "Current directory files:\n",
            "['.config', 'prophet_model_serial_5.pkl', 'prophet_model_serial_4 (1).pkl', 'validation_forecast_serial_4.csv', 'prophet_model_serial_4.pkl', 'future_forecast_serial_4.csv', 'prophet_model_serial_2.pkl', 'cleaned_sales_data.csv', 'prophet_model_serial_3.pkl', 'prophet_model_serial_1.pkl', 'sample_data']\n",
            "⚠️ File not found, skipping: future_forecast_serial_1.csv\n",
            "⚠️ File not found, skipping: future_forecast_serial_2.csv\n",
            "⚠️ File not found, skipping: future_forecast_serial_3.csv\n",
            "⚠️ File not found, skipping: future_forecast_serial_4(1).csv\n",
            "⚠️ File not found, skipping: future_forecast_serial_5.csv\n",
            "⚠️ File not found, skipping: validation_forecast_serial_1.csv\n",
            "⚠️ File not found, skipping: validation_forecast_serial_2.csv\n",
            "⚠️ File not found, skipping: validation_forecast_serial_3.csv\n",
            "⚠️ File not found, skipping: validation_forecast_serial_5.csv\n",
            "✅ ZIP file created: forecast_models_and_outputs.zip\n"
          ]
        }
      ]
    },
    {
      "cell_type": "code",
      "source": [
        "from google.colab import files\n",
        "files.download(\"forecast_models_and_outputs.zip\")\n"
      ],
      "metadata": {
        "colab": {
          "base_uri": "https://localhost:8080/",
          "height": 17
        },
        "id": "YvsQ-DnpvDDB",
        "outputId": "f5836303-f06c-47f7-9c31-fafd5c631109"
      },
      "execution_count": 28,
      "outputs": [
        {
          "output_type": "display_data",
          "data": {
            "text/plain": [
              "<IPython.core.display.Javascript object>"
            ],
            "application/javascript": [
              "\n",
              "    async function download(id, filename, size) {\n",
              "      if (!google.colab.kernel.accessAllowed) {\n",
              "        return;\n",
              "      }\n",
              "      const div = document.createElement('div');\n",
              "      const label = document.createElement('label');\n",
              "      label.textContent = `Downloading \"${filename}\": `;\n",
              "      div.appendChild(label);\n",
              "      const progress = document.createElement('progress');\n",
              "      progress.max = size;\n",
              "      div.appendChild(progress);\n",
              "      document.body.appendChild(div);\n",
              "\n",
              "      const buffers = [];\n",
              "      let downloaded = 0;\n",
              "\n",
              "      const channel = await google.colab.kernel.comms.open(id);\n",
              "      // Send a message to notify the kernel that we're ready.\n",
              "      channel.send({})\n",
              "\n",
              "      for await (const message of channel.messages) {\n",
              "        // Send a message to notify the kernel that we're ready.\n",
              "        channel.send({})\n",
              "        if (message.buffers) {\n",
              "          for (const buffer of message.buffers) {\n",
              "            buffers.push(buffer);\n",
              "            downloaded += buffer.byteLength;\n",
              "            progress.value = downloaded;\n",
              "          }\n",
              "        }\n",
              "      }\n",
              "      const blob = new Blob(buffers, {type: 'application/binary'});\n",
              "      const a = document.createElement('a');\n",
              "      a.href = window.URL.createObjectURL(blob);\n",
              "      a.download = filename;\n",
              "      div.appendChild(a);\n",
              "      a.click();\n",
              "      div.remove();\n",
              "    }\n",
              "  "
            ]
          },
          "metadata": {}
        },
        {
          "output_type": "display_data",
          "data": {
            "text/plain": [
              "<IPython.core.display.Javascript object>"
            ],
            "application/javascript": [
              "download(\"download_7767650d-8289-44b6-b731-b6d363b71faa\", \"forecast_models_and_outputs.zip\", 110393)"
            ]
          },
          "metadata": {}
        }
      ]
    }
  ]
}